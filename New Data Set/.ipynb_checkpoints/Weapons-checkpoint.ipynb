{
 "cells": [
  {
   "cell_type": "code",
   "execution_count": 1,
   "metadata": {},
   "outputs": [
    {
     "ename": "NameError",
     "evalue": "name 'gtd_dataframe' is not defined",
     "output_type": "error",
     "traceback": [
      "\u001b[0;31m---------------------------------------------------------------------------\u001b[0m",
      "\u001b[0;31mNameError\u001b[0m                                 Traceback (most recent call last)",
      "\u001b[0;32m<ipython-input-1-977c93d67697>\u001b[0m in \u001b[0;36m<module>\u001b[0;34m()\u001b[0m\n\u001b[1;32m     20\u001b[0m         suppress_ticks=True)\n\u001b[1;32m     21\u001b[0m \u001b[0;34m\u001b[0m\u001b[0m\n\u001b[0;32m---> 22\u001b[0;31m \u001b[0mgtd_kills\u001b[0m \u001b[0;34m=\u001b[0m \u001b[0mgtd_dataframe\u001b[0m\u001b[0;34m[\u001b[0m\u001b[0mgtd_dataframe\u001b[0m\u001b[0;34m[\u001b[0m\u001b[0;34m'nkill'\u001b[0m\u001b[0;34m]\u001b[0m \u001b[0;34m>=\u001b[0m \u001b[0;36m20\u001b[0m\u001b[0;34m]\u001b[0m\u001b[0;34m\u001b[0m\u001b[0m\n\u001b[0m\u001b[1;32m     23\u001b[0m \u001b[0;34m\u001b[0m\u001b[0m\n\u001b[1;32m     24\u001b[0m gtd_dataframe = pd.read_csv('Features pre-processed.csv', \n",
      "\u001b[0;31mNameError\u001b[0m: name 'gtd_dataframe' is not defined"
     ]
    }
   ],
   "source": [
    "from mpl_toolkits.basemap import Basemap\n",
    "from shapely.geometry import Point, MultiPoint\n",
    "import pandas as pd\n",
    "import matplotlib.pyplot as plt\n",
    "import matplotlib.cm as cm\n",
    "import matplotlib.colors as co\n",
    "import networkx as nx\n",
    "import numpy as np\n",
    "import math\n",
    "\n",
    "world = Basemap(\n",
    "        projection='merc',\n",
    "        ellps = 'WGS84',\n",
    "        llcrnrlon=-155, \n",
    "        llcrnrlat=-60,\n",
    "        urcrnrlon=180,\n",
    "        urcrnrlat=75,\n",
    "        lat_ts=0,\n",
    "        resolution='i',\n",
    "        suppress_ticks=True)\n",
    "\n",
    "gtd_dataframe = pd.read_csv('Features pre-processed.csv', \n",
    "                            usecols=[\"eventid\", \"country\", \"region_txt\", \"longitude\", \"latitude\", \"iyear\", \"nkill\", \"gname\",\n",
    "                                     \"weaptype1\", \"related\"])\n",
    "\n",
    "gtd_kills = gtd_dataframe[gtd_dataframe['nkill'] >= 20]\n",
    "\n",
    "world_points = pd.Series(\n",
    "                [Point(world(mapped_x, mapped_y)) \n",
    "                 for mapped_x, mapped_y in zip(gtd_kills['longitude'],\n",
    "                                               gtd_kills['latitude'])])\n",
    "\n",
    "world_repoints = MultiPoint(list(world_points.values)) \n",
    "\n",
    "world_country = gtd_kills['weaptype1']\n",
    "cmap = plt.cm.jet\n",
    "\n",
    "world_norm = co.Normalize(vmin=world_country.min(), vmax=world_country.max())\n",
    "world_pointcolors = plt.cm.ScalarMappable(world_norm, cmap)\n",
    "world_col = world_pointcolors.to_rgba(world_country)"
   ]
  },
  {
   "cell_type": "code",
   "execution_count": null,
   "metadata": {},
   "outputs": [],
   "source": [
    "# Defining edges between nodes with same gname\n",
    "gtd_gname = gtd_kills[\"gname\"]\n",
    "n_nodes = gtd_gname.size\n",
    "\n",
    "adj_gname = np.zeros((n_nodes, n_nodes))\n",
    "\n",
    "for i in range(0, n_nodes):\n",
    "    for j in range(0, n_nodes):\n",
    "        if (gtd_gname[i] == gtd_gname[j] and i != j):\n",
    "            adj_gname[i, j] = 1"
   ]
  },
  {
   "cell_type": "code",
   "execution_count": null,
   "metadata": {},
   "outputs": [],
   "source": [
    "plt.spy(adj_gname[0:100, 0:100])"
   ]
  },
  {
   "cell_type": "code",
   "execution_count": null,
   "metadata": {},
   "outputs": [],
   "source": [
    "# Analysis of the ISIL Terrorist Group\n",
    "\n",
    "gtd_isil = gtd_kills[gtd_dataframe[\"gname\"] == \"Islamic State of Iraq and the Levant (ISIL)\"]\n",
    "gtd_isil.reset_index(inplace=True)\n",
    "del gtd_isil[\"index\"]\n",
    "\n",
    "isil_points = pd.Series(\n",
    "                [Point(world(mapped_x, mapped_y)) \n",
    "                 for mapped_x, mapped_y in zip(gtd_isil['longitude'],\n",
    "                                               gtd_isil['latitude'])])\n",
    "\n",
    "world_repoints = MultiPoint(list(isil_points.values))\n",
    "\n",
    "weapons_isil = gtd_isil[\"weaptype1\"]\n",
    "isil_nodes = gtd_isil.shape[0]\n",
    "\n",
    "isil_adj = np.zeros((isil_nodes, isil_nodes))\n",
    "\n",
    "for i in range(0, isil_nodes):\n",
    "    for j in range(0, isil_nodes):\n",
    "        if (i != j and weapons_isil[i] == weapons_isil[j]):\n",
    "            isil_adj[i, j] = 1\n",
    "            isil_adj[j, i] = 1\n",
    "            "
   ]
  },
  {
   "cell_type": "code",
   "execution_count": null,
   "metadata": {},
   "outputs": [],
   "source": [
    "# Draw graph with the edges\n",
    "\n",
    "isil_latitude = gtd_isil[\"latitude\"]\n",
    "isil_longitude = gtd_isil[\"longitude\"]\n",
    "\n",
    "G=nx.Graph()\n",
    "\n",
    "for i in range(0, isil_nodes):\n",
    "    for j in range(0, isil_nodes):\n",
    "        if isil_adj[i, j] == 1:\n",
    "            lats = [isil_latitude[i], isil_latitude[j]]\n",
    "            lons = [isil_longitude[i], isil_longitude[j]]\n",
    "            mx,my = world(lons, lats)\n",
    "            G.add_edge('a','b')\n",
    "            pos={}\n",
    "            pos['a']=(mx[0],my[0])\n",
    "            pos['b']=(mx[1],my[1])\n",
    "            #nx.draw_networkx(G,pos,node_size=200,node_color='blue')\n",
    "        \n",
    "        \n",
    "\n",
    "# The NetworkX part\n",
    "# put map projection coordinates in pos dictionary\n",
    "# draw"
   ]
  },
  {
   "cell_type": "code",
   "execution_count": null,
   "metadata": {},
   "outputs": [],
   "source": [
    "plt.clf()\n",
    "fig = plt.figure()\n",
    "ax = fig.add_subplot(111, facecolor='w', frame_on=False)\n",
    "fig.set_size_inches(18.5, 10.5)\n",
    "\n",
    "# Create a scatterplot on the map\n",
    "dev = world.scatter(\n",
    "            [geom.x for geom in world_points],\n",
    "            [geom.y for geom in world_points],\n",
    "            20, marker='o', lw=.25,\n",
    "            facecolor=world_col, edgecolor='w',\n",
    "            alpha=0.9,antialiased=True,\n",
    "            zorder=3)\n",
    "\n",
    "sm = cm.ScalarMappable(norm=world_norm, cmap=cmap)\n",
    "sm.set_array([]) # can be an empty list\n",
    "# ...\n",
    "cb = fig.colorbar(sm, ax=ax, orientation='horizontal')\n",
    "\n",
    "world.fillcontinents(color='#555555')"
   ]
  },
  {
   "cell_type": "code",
   "execution_count": null,
   "metadata": {},
   "outputs": [],
   "source": []
  }
 ],
 "metadata": {
  "kernelspec": {
   "display_name": "Python 3",
   "language": "python",
   "name": "python3"
  },
  "language_info": {
   "codemirror_mode": {
    "name": "ipython",
    "version": 3
   },
   "file_extension": ".py",
   "mimetype": "text/x-python",
   "name": "python",
   "nbconvert_exporter": "python",
   "pygments_lexer": "ipython3",
   "version": "3.6.6"
  }
 },
 "nbformat": 4,
 "nbformat_minor": 2
}
