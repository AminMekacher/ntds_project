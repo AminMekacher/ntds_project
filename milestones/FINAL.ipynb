{
 "cells": [
  {
   "cell_type": "markdown",
   "metadata": {},
   "source": [
    "# [NTDS'18] milestone 3: spectral graph theory\n",
    "[ntds'18]: https://github.com/mdeff/ntds_2018\n",
    "\n",
    "[Michaël Defferrard](http://deff.ch), [EPFL LTS2](https://lts2.epfl.ch)"
   ]
  },
  {
   "cell_type": "markdown",
   "metadata": {},
   "source": [
    "## Students\n",
    "\n",
    "* Team: 19\n",
    "* Students: Zahra Farsijani, Joëlle Hanna, Dorsan Lepour, Amin Mekacher\n",
    "* Dataset: Terrorist Relations"
   ]
  },
  {
   "cell_type": "markdown",
   "metadata": {},
   "source": [
    "## Rules\n",
    "\n",
    "* Milestones have to be completed by teams. No collaboration between teams is allowed.\n",
    "* Textual answers shall be short. Typically one to two sentences.\n",
    "* Code has to be clean.\n",
    "* You cannot import any other library than we imported.\n",
    "* When submitting, the notebook is executed and the results are stored. I.e., if you open the notebook again it should show numerical results and plots. We won't be able to execute your notebooks.\n",
    "* The notebook is re-executed from a blank state before submission. That is to be sure it is reproducible. You can click \"Kernel\" then \"Restart & Run All\" in Jupyter."
   ]
  },
  {
   "cell_type": "markdown",
   "metadata": {},
   "source": [
    "## Objective\n",
    "\n",
    "The goal of this milestone is to get familiar with the graph Laplacian and its spectral decomposition."
   ]
  },
  {
   "cell_type": "markdown",
   "metadata": {},
   "source": [
    "## 0 Load your network"
   ]
  },
  {
   "cell_type": "code",
   "execution_count": 1,
   "metadata": {},
   "outputs": [],
   "source": [
    "%matplotlib inline"
   ]
  },
  {
   "cell_type": "markdown",
   "metadata": {},
   "source": [
    "If you get a `No module named 'sklearn'` error when running the below cell, install [scikit-learn](https://scikit-learn.org) with `conda install scikit-learn` (after activating the `ntds_2018` environment)."
   ]
  },
  {
   "cell_type": "code",
   "execution_count": 2,
   "metadata": {},
   "outputs": [],
   "source": [
    "import numpy as np\n",
    "import networkx as nx\n",
    "from scipy import sparse\n",
    "import scipy.sparse.linalg\n",
    "import matplotlib.pyplot as plt\n",
    "from sklearn.cluster import KMeans"
   ]
  },
  {
   "cell_type": "markdown",
   "metadata": {},
   "source": [
    "Let's denote your graph as $\\mathcal{G} = (\\mathcal{V}, \\mathcal{E}, A)$, where $\\mathcal{V}$ is the set of nodes, $\\mathcal{E}$ is the set of edges, $A \\in \\mathbb{R}^{N \\times N}$ is the (weighted) adjacency matrix, and $N = |\\mathcal{V}|$ is the number of nodes.\n",
    "\n",
    "Import the adjacency matrix $A$ that you constructed in the first milestone.\n",
    "(You're allowed to update it between milestones if you want to.)"
   ]
  },
  {
   "cell_type": "code",
   "execution_count": 3,
   "metadata": {},
   "outputs": [],
   "source": [
    "adjacency =  np.load('adjacency_matrix.npy')# the adjacency matrix\n",
    "n_nodes = len(adjacency) # the number of nodes in the network\n",
    "\n",
    "degrees = np.sum(adjacency, axis =0)\n",
    "degree_matrix = np.diag(degrees) # matrix D used in Laplacian calculations"
   ]
  },
  {
   "cell_type": "markdown",
   "metadata": {},
   "source": [
    "## 1 Graph Laplacian"
   ]
  },
  {
   "cell_type": "markdown",
   "metadata": {},
   "source": [
    "### Question 1\n",
    "\n",
    "From the (weighted) adjacency matrix $A$, compute both the combinatorial (also called unnormalized) and the normalized graph Laplacian matrices.\n",
    "\n",
    "Note: if your graph is weighted, use the weighted adjacency matrix. If not, use the binary adjacency matrix.\n",
    "\n",
    "For efficient storage and computation, store these sparse matrices in a [compressed sparse row (CSR) format](https://en.wikipedia.org/wiki/Sparse_matrix#Compressed_sparse_row_.28CSR.2C_CRS_or_Yale_format.29)."
   ]
  },
  {
   "cell_type": "code",
   "execution_count": 4,
   "metadata": {},
   "outputs": [
    {
     "name": "stderr",
     "output_type": "stream",
     "text": [
      "/Users/aminmekacher/miniconda3/envs/ntds_project/lib/python3.6/site-packages/ipykernel_launcher.py:2: RuntimeWarning: divide by zero encountered in true_divide\n",
      "  \n"
     ]
    }
   ],
   "source": [
    "laplacian_combinatorial = sparse.csr_matrix(degree_matrix - adjacency) \n",
    "inv_sqrt_degree_matrix = np.diag(1 / np.diag(degree_matrix**(0.5)))\n",
    "laplacian_normalized = inv_sqrt_degree_matrix @ laplacian_combinatorial @ inv_sqrt_degree_matrix"
   ]
  },
  {
   "cell_type": "code",
   "execution_count": 5,
   "metadata": {},
   "outputs": [
    {
     "name": "stderr",
     "output_type": "stream",
     "text": [
      "/Users/aminmekacher/miniconda3/envs/ntds_project/lib/python3.6/site-packages/matplotlib/axes/_axes.py:7693: RuntimeWarning: invalid value encountered in greater\n",
      "  mask = np.abs(Z) > precision\n"
     ]
    },
    {
     "data": {
      "image/png": "[encoded data removed]",
      "text/plain": [
       "<Figure size 432x288 with 1 Axes>"
      ]
     },
     "metadata": {},
     "output_type": "display_data"
    }
   ],
   "source": [
    "precision = 1e-15\n",
    "plt.spy(laplacian_normalized);"
   ]
  },
  {
   "cell_type": "markdown",
   "metadata": {},
   "source": [
    "Use one of them as the graph Laplacian $L$ for the rest of the milestone.\n",
    "We however encourage you to run the code with both to get a sense of the difference!"
   ]
  },
  {
   "cell_type": "code",
   "execution_count": 6,
   "metadata": {},
   "outputs": [],
   "source": [
    "laplacian =  laplacian_combinatorial"
   ]
  },
  {
   "cell_type": "markdown",
   "metadata": {},
   "source": [
    "### Question 2\n",
    "\n",
    "Compute the eigendecomposition of the Laplacian $L = U^\\top \\Lambda U$, where the columns $u_k \\in \\mathbb{R}^N$ of $U = [u_1, \\dots, u_N] \\in \\mathbb{R}^{N \\times N}$ are the eigenvectors and the diagonal elements $\\lambda_k = \\Lambda_{kk}$ are the corresponding eigenvalues.\n",
    "\n",
    "Make sure that the eigenvalues are ordered, i.e., $0 = \\lambda_1 \\leq \\lambda_2 \\leq \\dots \\leq \\lambda_N$."
   ]
  },
  {
   "cell_type": "code",
   "execution_count": 7,
   "metadata": {},
   "outputs": [],
   "source": [
    "eigenvalues, eigenvectors = scipy.linalg.eigh(laplacian.asfptype().toarray())\n",
    "\n",
    "assert eigenvectors.shape == (n_nodes, n_nodes)"
   ]
  },
  {
   "cell_type": "markdown",
   "metadata": {},
   "source": [
    "Justify your choice of eigensolver."
   ]
  },
  {
   "cell_type": "markdown",
   "metadata": {},
   "source": [
    "Numpy eigensolvers do not allow the user to choose the number of vectors and hence are not very efficient.\n",
    "Among various Scipy eigensolvers (e.g. `scipy.linalg.eigh`,`scipy.linalg.eigh`,`sparse.linalg.eigs`, `sparse.linalg.eigsh`, etc.) Since the laplacian matrix is real and symmetric, we prefer to use `scipy.linalg.eigh` since it accepts symmetric matrices. This solver is faster than the others and returns the eigenvalues and eigenvectros and does the job we need and not more than that which boosts the performance. "
   ]
  },
  {
   "cell_type": "markdown",
   "metadata": {},
   "source": [
    "### Question 3\n",
    "\n",
    "We can write $L = S S^\\top$. What is the matrix $S$? What does $S^\\top x$, with $x \\in \\mathbb{R}^N$, compute?"
   ]
  },
  {
   "cell_type": "markdown",
   "metadata": {},
   "source": [
    "Matrix $S$ is the **incidence matrix** and $S^\\top x$ computes the gradient of x."
   ]
  },
  {
   "cell_type": "markdown",
   "metadata": {},
   "source": [
    "### Question 4\n",
    "\n",
    "Show that $\\lambda_k = \\| S^\\top u_k \\|_2^2$, where $\\| \\cdot \\|_2^2$ denotes the squared Euclidean norm (a.k.a. squared $L^2$ norm)."
   ]
  },
  {
   "cell_type": "markdown",
   "metadata": {},
   "source": [
    "**We know that $L$ is symmetric and hence diagonalizable. Thus, it accepts an eigenvalue decomposition of the form $L = U \\Lambda U^\\top$ <br> Since $L = S S^\\top$; hence, we can write: <br> $S S^\\top = U \\Lambda U^\\top$ <br> $U^\\top S S^\\top U = U^\\top U \\Lambda U^\\top U$ <br> since L is symmetric (i.e. $ S S^\\top$ is symmetric), therefore, $ U^\\top U = U U^\\top = I$ (i.e. $U$ and $U^\\top$ can be chosen to be orthogonal); Thus, <br> $\\| S^\\top U \\|_2^2 = \\Lambda$ <br> Hence, <br> $\\| S^\\top u_k \\|_2^2 = \\lambda_k$**"
   ]
  },
  {
   "cell_type": "markdown",
   "metadata": {},
   "source": [
    "What does the quantity $\\| S^\\top x \\|_2^2$ tell us about $x$?"
   ]
  },
  {
   "cell_type": "markdown",
   "metadata": {},
   "source": [
    "**This quadratic (dirichlet) form is a measure of how smooth the signal is.**"
   ]
  },
  {
   "cell_type": "markdown",
   "metadata": {},
   "source": [
    "### Question 5\n",
    "\n",
    "What is the value of $u_0$, both for the combinatorial and normalized Laplacians?"
   ]
  },
  {
   "cell_type": "markdown",
   "metadata": {},
   "source": [
    "**The smallest eigenvalue of L is 0, the corresponding eigenvector is the constant one vector.**"
   ]
  },
  {
   "cell_type": "markdown",
   "metadata": {},
   "source": [
    "### Question 6\n",
    "\n",
    "Look at the spectrum of the Laplacian by plotting the eigenvalues.\n",
    "Comment on what you observe."
   ]
  },
  {
   "cell_type": "code",
   "execution_count": 8,
   "metadata": {},
   "outputs": [
    {
     "data": {
      "image/png": "[encoded data removed]",
      "text/plain": [
       "<Figure size 432x288 with 1 Axes>"
      ]
     },
     "metadata": {},
     "output_type": "display_data"
    }
   ],
   "source": [
    "plt.plot(np.real(eigenvalues), '.-', markersize=2);"
   ]
  },
  {
   "cell_type": "markdown",
   "metadata": {},
   "source": [
    "**As seen in the plot above, the eigenvalues are all non-negative. The number of connected components in our graph is equal to the multiplicity of the eigenvalue 0 which is, in our case, 13**"
   ]
  },
  {
   "cell_type": "markdown",
   "metadata": {},
   "source": [
    "How many connected components are there in your graph? Answer using the eigenvalues only."
   ]
  },
  {
   "cell_type": "markdown",
   "metadata": {},
   "source": [
    "If graph G is connected, then $ \\lambda_1>0$ . If $\\lambda_i=0$ and $\\lambda_{i+1} \\neq 0$,\n",
    "then G has exactly $i + 1$ connected components. In other words, the multiplicity $k$ of the eigenvalue 0 ($\\lambda_0$) of $L$ (Laplacian) equals the number of connected components. "
   ]
  },
  {
   "cell_type": "markdown",
   "metadata": {},
   "source": [
    "Is there an upper bound on the eigenvalues, i.e., what is the largest possible eigenvalue? Answer for both the combinatorial and normalized Laplacians."
   ]
  },
  {
   "cell_type": "markdown",
   "metadata": {},
   "source": [
    "**As we saw in the lecture on spectral graph theory, we can not assume an upper bound for the eigenalues of the combinatorial Laplacian. However, in the case of the normalized one, we know from the theory that all of the eigenvalues we get from the eigen decomposition are smaller than 2 (the eigenvalue 2 is present only in the case of a bipartite graph, which does not apply to ours)**"
   ]
  },
  {
   "cell_type": "markdown",
   "metadata": {},
   "source": [
    "## 3 Laplacian eigenmaps\n",
    "\n",
    "*Laplacian eigenmaps* is a method to embed a graph $\\mathcal{G}$ in a $d$-dimensional Euclidean space.\n",
    "That is, it associates a vector $z_i \\in \\mathbb{R}^d$ to every node $v_i \\in \\mathcal{V}$.\n",
    "The graph $\\mathcal{G}$ is thus embedded as $Z \\in \\mathbb{R}^{N \\times d}$."
   ]
  },
  {
   "cell_type": "markdown",
   "metadata": {},
   "source": [
    "### Question 7\n",
    "\n",
    "What do we use Laplacian eigenmaps for? (Or more generally, graph embeddings.)"
   ]
  },
  {
   "cell_type": "markdown",
   "metadata": {},
   "source": [
    "**We use Laplacian Eigenmaps and spectral methods to perform graph embedding, a dimensionality reduction from a network to a vector space. This nonlinear mapping to a smaller-dimensional space have the benefit of preserving some relevant network properties.**\n",
    "\n",
    "**Also, vector spaces are easier to work with than graphs : with their edges and nodes, graphs can only use limited operations. Vector spaces offer more possibilities from mathematics, statistics and machine learning (for example, we can define different distance metrics). Finally, a visualization can be easily done for d = 1,2,3 Euclidean spaces, while a network lying in high dimensional space is difficult to represent.**"
   ]
  },
  {
   "cell_type": "markdown",
   "metadata": {},
   "source": [
    "### Question 8\n",
    "\n",
    "Embed your graph in $d=2$ dimensions with Laplacian eigenmaps.\n",
    "Try with and without re-normalizing the eigenvectors by the degrees, then keep the one your prefer.\n",
    "\n",
    "**Recompute** the eigenvectors you need with a partial eigendecomposition method for sparse matrices.\n",
    "When $k \\ll N$ eigenvectors are needed, partial eigendecompositions are much more efficient than complete eigendecompositions.\n",
    "A partial eigendecomposition scales as $\\Omega(k |\\mathcal{E}|$), while a complete eigendecomposition costs $\\mathcal{O}(N^3)$ operations."
   ]
  },
  {
   "cell_type": "markdown",
   "metadata": {},
   "source": [
    "**As we have k = 13 << N = 851, we can use a partial eigendecomposition, in order to reduce the computational cost of the algorithm**"
   ]
  },
  {
   "cell_type": "code",
   "execution_count": 9,
   "metadata": {},
   "outputs": [
    {
     "name": "stdout",
     "output_type": "stream",
     "text": [
      "13\n",
      "665\n"
     ]
    }
   ],
   "source": [
    "# Your code here.\n",
    "\n",
    "G = nx.from_numpy_matrix(adjacency)\n",
    "graphs = nx.connected_component_subgraphs(G)\n",
    "graphs = list(graphs)\n",
    "print(len(graphs))\n",
    "print(len(graphs[0]))\n",
    "new_adjacency = nx.adjacency_matrix(graphs[0]).toarray()\n",
    "\n",
    "new_degrees = np.sum(new_adjacency, axis=0)\n",
    "new_deg_matrix = np.diag(new_degrees)\n",
    "\n",
    "new_laplacian =  scipy.sparse.csr_matrix(new_deg_matrix - new_adjacency)\n",
    "\n",
    "eigenvalues, eigenvectors = scipy.linalg.eig(new_laplacian.toarray())\n",
    "\n",
    "inds = eigenvalues.argsort()\n",
    "eigenvectors = eigenvectors[inds]\n",
    "eigenvalues = np.sort(eigenvalues)\n",
    "\n",
    "#first eigenvector is the trivial one\n",
    "x = eigenvectors[1]\n",
    "y = eigenvectors[2]"
   ]
  },
  {
   "cell_type": "markdown",
   "metadata": {},
   "source": [
    "Plot the nodes embedded in 2D. Comment on what you see."
   ]
  },
  {
   "cell_type": "code",
   "execution_count": 10,
   "metadata": {},
   "outputs": [
    {
     "data": {
      "text/plain": [
       "(665, 1)"
      ]
     },
     "execution_count": 10,
     "metadata": {},
     "output_type": "execute_result"
    }
   ],
   "source": [
    "eigenvectors[1].reshape(665,1).shape"
   ]
  },
  {
   "cell_type": "code",
   "execution_count": 11,
   "metadata": {},
   "outputs": [
    {
     "data": {
      "text/plain": [
       "<matplotlib.collections.PathCollection at 0x1a21a68550>"
      ]
     },
     "execution_count": 11,
     "metadata": {},
     "output_type": "execute_result"
    },
    {
     "data": {
      "image/png": "[encoded data removed]",
      "text/plain": [
       "<Figure size 432x288 with 1 Axes>"
      ]
     },
     "metadata": {},
     "output_type": "display_data"
    }
   ],
   "source": [
    "plt.scatter(np.real(x), np.real(y), c = 'red')"
   ]
  },
  {
   "cell_type": "markdown",
   "metadata": {},
   "source": [
    "**From the 13 connected components of our network (851 nodes), we extract the biggest one containing 665 nodes. We then directly notice inside this giant component the presence of a cluster with strongly connected nodes.**"
   ]
  },
  {
   "cell_type": "markdown",
   "metadata": {},
   "source": [
    "### Question 9"
   ]
  },
  {
   "cell_type": "markdown",
   "metadata": {},
   "source": [
    "What does the embedding $Z \\in \\mathbb{R}^{N \\times d}$ preserve?"
   ]
  },
  {
   "cell_type": "markdown",
   "metadata": {},
   "source": [
    "**Local distances between neighboring points.**"
   ]
  },
  {
   "cell_type": "markdown",
   "metadata": {},
   "source": [
    "## 2 Spectral clustering\n",
    "\n",
    "*Spectral clustering* is a method to partition a graph into distinct clusters.\n",
    "The method associates a feature vector $z_i \\in \\mathbb{R}^d$ to every node $v_i \\in \\mathcal{V}$, then runs [$k$-means](https://en.wikipedia.org/wiki/K-means_clustering) in the embedding space $\\mathbb{R}^d$ to assign each node $v_i \\in \\mathcal{V}$ to a cluster $c_j \\in \\mathcal{C}$, where $k = |\\mathcal{C}|$ is the number of desired clusters."
   ]
  },
  {
   "cell_type": "markdown",
   "metadata": {},
   "source": [
    "### Question 10\n",
    "\n",
    "Choose $k$ and $d$. How did you get to those numbers?"
   ]
  },
  {
   "cell_type": "markdown",
   "metadata": {},
   "source": [
    "**The goal of the clustering is to separate dissimilar points in different clusters, in order for the edges within a group to have a high weight. As the labels in our dataset provide us a binary information, i.e. if the two people in the nodes are \"colleagues\" or \"non-colleagues\", we decided to set k = 2, to see if there is a clear distinction between these two clusters. We did not however see any gap after the 2nd eigenvalue, as mentioned in the lectures.\n",
    "We also need to consider enough feature vectors in order to be able to discriminate the different classes, but not too much, to avoid overfitting the data we have (i.e the curse of dimensionality): therefore, we decided to set d = 2**"
   ]
  },
  {
   "cell_type": "code",
   "execution_count": 12,
   "metadata": {},
   "outputs": [
    {
     "data": {
      "text/plain": [
       "Text(0.5, 1.0, 'First 10 eigenvalues of the giant component of our network')"
      ]
     },
     "execution_count": 12,
     "metadata": {},
     "output_type": "execute_result"
    },
    {
     "data": {
      "image/png": "[encoded data removed]",
      "text/plain": [
       "<Figure size 432x288 with 1 Axes>"
      ]
     },
     "metadata": {},
     "output_type": "display_data"
    }
   ],
   "source": [
    "# Laplacian spectrum of our giant component\n",
    "plt.plot(np.arange(1,11), np.real(eigenvalues[0:10]), '.-', markersize=2);\n",
    "plt.title(\"First 10 eigenvalues of the giant component of our network\")"
   ]
  },
  {
   "cell_type": "markdown",
   "metadata": {},
   "source": [
    "### Question 11\n",
    "\n",
    "1. Embed your graph in $\\mathbb{R}^d$ as $Z \\in \\mathbb{R}^{N \\times d}$.\n",
    "   Try with and without re-normalizing the eigenvectors by the degrees, then keep the one your prefer.\n",
    "1. If you want $k=2$ clusters, partition with the Fiedler vector. For $k > 2$ clusters, run $k$-means on $Z$. Don't implement $k$-means, use the `KMeans` class imported from scikit-learn."
   ]
  },
  {
   "cell_type": "code",
   "execution_count": 13,
   "metadata": {},
   "outputs": [],
   "source": [
    "feature_vectors = np.vstack((np.real(eigenvectors[1]), np.real(eigenvectors[2])))\n",
    "\n",
    "# We assign each node to a cluster depending on the sign of the Fiedler vector (in our case, the first non-zero eigenvector)\n",
    "Z = 1 * np.real(eigenvectors[1] > 0)"
   ]
  },
  {
   "cell_type": "markdown",
   "metadata": {},
   "source": [
    "### Question 12\n",
    "\n",
    "Use the computed cluster assignment to reorder the adjacency matrix $A$.\n",
    "What do you expect? What do you observe?"
   ]
  },
  {
   "cell_type": "code",
   "execution_count": 14,
   "metadata": {},
   "outputs": [
    {
     "data": {
      "text/plain": [
       "Text(0.5, 1.05, 'After')"
      ]
     },
     "execution_count": 14,
     "metadata": {},
     "output_type": "execute_result"
    },
    {
     "data": {
      "image/png": "[encoded data removed]",
      "text/plain": [
       "<Figure size 432x288 with 2 Axes>"
      ]
     },
     "metadata": {},
     "output_type": "display_data"
    }
   ],
   "source": [
    "inds_first = np.asarray(np.where(Z == 0))\n",
    "inds_second = np.asarray(np.where(Z == 1))\n",
    "inds_ordered = np.concatenate((inds_first, inds_second), axis=1)[0]\n",
    "if (type(new_adjacency) == scipy.sparse.csr.csr_matrix):\n",
    "    new_adjacency = new_adjacency.toarray()\n",
    "\n",
    "adjacency_ordered = [[new_adjacency[i][j] for j in inds_ordered for i in inds_ordered]]\n",
    "adjacency_ordered = np.reshape(adjacency_ordered, (665, 665))\n",
    "\n",
    "# Plot the original and the ordered adjacency matrix\n",
    "plt.subplot(1, 2, 1)\n",
    "plt.spy(new_adjacency)\n",
    "plt.title(\"Before\")\n",
    "plt.subplot(1, 2, 2)\n",
    "plt.spy(adjacency_ordered)\n",
    "plt.title(\"After\")"
   ]
  },
  {
   "cell_type": "markdown",
   "metadata": {},
   "source": [
    "**After we reordered the adjacency matrix by discriminating the nodes according to their cluster assignment, we expected to see distincly some regions where the links are concentrated between the nodes, meaning that the nodes are mostly connected to the adjacent nodes in the matrix. However, in our case, we notice that the adjacency matrix does not display a clear cut between the two clusters. This is probably due to the fact that the k-means algorithm, with k = 2, will cut through the biggest community of this component, thus leading to a non-optimal clustering.**"
   ]
  },
  {
   "cell_type": "markdown",
   "metadata": {},
   "source": [
    "### Question 13\n",
    "\n",
    "If you have ground truth clusters for your dataset, compare the cluster assignment from spectral clustering to the ground truth.\n",
    "A simple quantitative measure is to compute the percentage of nodes that have been correctly categorized.\n",
    "If you don't have a ground truth, qualitatively assess the quality of the clustering.\n",
    "\n",
    "Ground truth clusters are the \"real clusters\".\n",
    "For example, the genre of musical tracks in FMA, the category of Wikipedia articles, the spammer status of individuals, etc.\n",
    "Look for the `labels` in the [dataset descriptions](https://github.com/mdeff/ntds_2018/tree/master/projects/README.md)."
   ]
  },
  {
   "cell_type": "code",
   "execution_count": 15,
   "metadata": {},
   "outputs": [
    {
     "data": {
      "text/plain": [
       "0.49624060150375937"
      ]
     },
     "execution_count": 15,
     "metadata": {},
     "output_type": "execute_result"
    }
   ],
   "source": [
    "# We only want the indices of the connected components for the comparison\n",
    "node_connected_component = list(graphs[0])\n",
    "\n",
    "# Firstly, we need to import the labels to get the ground thruth clusters. As we used the colleague feature to define \n",
    "# our adjacency matrix during the first milestone, we shall use this one now as well\n",
    "import pandas as pd\n",
    "colleague = pd.read_csv(\"TerroristRel_Colleague.nodes\", header = None, sep=\"\\t\", encoding=\"utf-8\")\n",
    "truth_label = colleague[1225].values\n",
    "\n",
    "correct_clustering = 0\n",
    "index_matrix = 0\n",
    "\n",
    "for i in node_connected_component:\n",
    "    if (truth_label[i] == \"colleague\" and Z[index_matrix] == 0) or (truth_label[i] == \"non-colleague\" and Z[index_matrix] == 1):\n",
    "        correct_clustering = correct_clustering + 1\n",
    "    index_matrix = index_matrix + 1\n",
    "        \n",
    "accuracy = correct_clustering / index_matrix\n",
    "accuracy     "
   ]
  },
  {
   "cell_type": "markdown",
   "metadata": {},
   "source": [
    "**During the first milestone, the label we used to define our adjacency matrix is the colleague one: therefore, we used it\n",
    "as our ground truth cluster to assess the accuracy of our clustering, which is finally 49.6%. We were expecting to have an unsatisfying result, as the reordered adjacency matrix displayed in question 12 shows that a binary clustering is not very efficient with our dataset.**"
   ]
  },
  {
   "cell_type": "markdown",
   "metadata": {},
   "source": [
    "### Question 14\n",
    "\n",
    "Plot the cluster assignment (one color per cluster) on the 2D embedding you computed above with Laplacian eigenmaps."
   ]
  },
  {
   "cell_type": "code",
   "execution_count": 16,
   "metadata": {},
   "outputs": [
    {
     "data": {
      "text/plain": [
       "<matplotlib.collections.PathCollection at 0x1a236f4978>"
      ]
     },
     "execution_count": 16,
     "metadata": {},
     "output_type": "execute_result"
    },
    {
     "data": {
      "image/png": "[encoded data removed]",
      "text/plain": [
       "<Figure size 432x288 with 1 Axes>"
      ]
     },
     "metadata": {},
     "output_type": "display_data"
    }
   ],
   "source": [
    "plt.scatter(np.real(eigenvectors[1]), np.real(eigenvectors[2]), c=np.sign(np.real(eigenvectors[1])), cmap='rainbow')"
   ]
  },
  {
   "cell_type": "markdown",
   "metadata": {},
   "source": [
    "### Question 15\n",
    "\n",
    "Why did we use the eigenvectors of the graph Laplacian as features? Could we use other features for clustering?"
   ]
  },
  {
   "cell_type": "markdown",
   "metadata": {},
   "source": [
    "**Because the eigenvectors are a good indicator of the similarity between the nodes in a graph, thus are really efficient when it comes to discriminate communities in a network. Other features can be used, depending on the application we are trying to implement: for instance, when we want to perform a PCA, we choose features related to the spectral bands, because it allows us to group clusters which share the same features (high NIR reflectance for the vegetation, for instance).**"
   ]
  }
 ],
 "metadata": {
  "kernelspec": {
   "display_name": "Python 3",
   "language": "python",
   "name": "python3"
  },
  "language_info": {
   "codemirror_mode": {
    "name": "ipython",
    "version": 3
   },
   "file_extension": ".py",
   "mimetype": "text/x-python",
   "name": "python",
   "nbconvert_exporter": "python",
   "pygments_lexer": "ipython3",
   "version": "3.6.6"
  }
 },
 "nbformat": 4,
 "nbformat_minor": 2
}
