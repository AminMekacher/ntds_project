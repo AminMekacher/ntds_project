{
 "cells": [
  {
   "cell_type": "code",
   "execution_count": 1,
   "metadata": {},
   "outputs": [
    {
     "name": "stdout",
     "output_type": "stream",
     "text": [
      "\n",
      "     active environment : ntds_2018\n",
      "    active env location : /Users/aminmekacher/miniconda3/envs/ntds_2018\n",
      "            shell level : 1\n",
      "       user config file : /Users/aminmekacher/.condarc\n",
      " populated config files : \n",
      "          conda version : 4.5.11\n",
      "    conda-build version : not installed\n",
      "         python version : 3.7.0.final.0\n",
      "       base environment : /Users/aminmekacher/miniconda3  (writable)\n",
      "           channel URLs : https://repo.anaconda.com/pkgs/main/osx-64\n",
      "                          https://repo.anaconda.com/pkgs/main/noarch\n",
      "                          https://repo.anaconda.com/pkgs/free/osx-64\n",
      "                          https://repo.anaconda.com/pkgs/free/noarch\n",
      "                          https://repo.anaconda.com/pkgs/r/osx-64\n",
      "                          https://repo.anaconda.com/pkgs/r/noarch\n",
      "                          https://repo.anaconda.com/pkgs/pro/osx-64\n",
      "                          https://repo.anaconda.com/pkgs/pro/noarch\n",
      "          package cache : /Users/aminmekacher/miniconda3/pkgs\n",
      "                          /Users/aminmekacher/.conda/pkgs\n",
      "       envs directories : /Users/aminmekacher/miniconda3/envs\n",
      "                          /Users/aminmekacher/.conda/envs\n",
      "               platform : osx-64\n",
      "             user-agent : conda/4.5.11 requests/2.19.1 CPython/3.7.0 Darwin/17.7.0 OSX/10.13.6\n",
      "                UID:GID : 501:20\n",
      "             netrc file : None\n",
      "           offline mode : False\n",
      "\n"
     ]
    }
   ],
   "source": [
    "!conda info"
   ]
  },
  {
   "cell_type": "code",
   "execution_count": 2,
   "metadata": {},
   "outputs": [
    {
     "name": "stdout",
     "output_type": "stream",
     "text": [
      "# conda environments:\n",
      "#\n",
      "base                     /Users/aminmekacher/miniconda3\n",
      "ntds_2018             *  /Users/aminmekacher/miniconda3/envs/ntds_2018\n",
      "test                     /Users/aminmekacher/miniconda3/envs/test\n",
      "\n"
     ]
    }
   ],
   "source": [
    "!conda env list"
   ]
  },
  {
   "cell_type": "code",
   "execution_count": 3,
   "metadata": {},
   "outputs": [
    {
     "name": "stdout",
     "output_type": "stream",
     "text": [
      "# packages in environment at /Users/aminmekacher/miniconda3/envs/ntds_2018:\n",
      "#\n",
      "# Name                    Version                   Build  Channel\n",
      "appnope                   0.1.0                    py37_0    conda-forge\n",
      "backcall                  0.1.0                      py_0    conda-forge\n",
      "blas                      1.0                         mkl  \n",
      "bleach                    2.1.4                      py_1    conda-forge\n",
      "ca-certificates           2018.03.07                    0  \n",
      "certifi                   2018.8.24                py37_1  \n",
      "curl                      7.61.0               h93b3f91_2    conda-forge\n",
      "cycler                    0.10.0                     py_1    conda-forge\n",
      "decorator                 4.3.0                      py_0    conda-forge\n",
      "entrypoints               0.2.3                    py37_2    conda-forge\n",
      "expat                     2.2.5                hfc679d8_2    conda-forge\n",
      "freetype                  2.9.1                h6debe1e_4    conda-forge\n",
      "gettext                   0.19.8.1             h1f1d5ed_1    conda-forge\n",
      "git                       2.18.0          pl526h028e6c8_0  \n",
      "html5lib                  1.0.1                      py_0    conda-forge\n",
      "icu                       58.2                 hfc679d8_0    conda-forge\n",
      "intel-openmp              2019.0                      118  \n",
      "ipykernel                 4.8.2                    py37_0    conda-forge\n",
      "ipython                   6.5.0                    py37_0    conda-forge\n",
      "ipython_genutils          0.2.0                      py_1    conda-forge\n",
      "ipywidgets                7.4.2                      py_0    conda-forge\n",
      "jedi                      0.12.1                   py37_0    conda-forge\n",
      "jinja2                    2.10                       py_1    conda-forge\n",
      "jpeg                      9c                   h470a237_1    conda-forge\n",
      "jsonschema                2.6.0                    py37_2    conda-forge\n",
      "jupyter                   1.0.0                      py_1    conda-forge\n",
      "jupyter_client            5.2.3                      py_1    conda-forge\n",
      "jupyter_console           5.2.0                    py37_1    conda-forge\n",
      "jupyter_core              4.4.0                      py_0    conda-forge\n",
      "jupyterlab                0.34.9                   py37_0  \n",
      "jupyterlab_launcher       0.13.1                     py_2    conda-forge\n",
      "kiwisolver                1.0.1            py37h2d50403_2    conda-forge\n",
      "krb5                      1.14.6                        0    conda-forge\n",
      "libcurl                   7.61.1               hf30b1f0_0  \n",
      "libcxx                    4.0.1                h579ed51_0  \n",
      "libcxxabi                 4.0.1                hebd6815_0  \n",
      "libffi                    3.2.1                hfc679d8_5    conda-forge\n",
      "libgfortran               3.0.1                h93005f0_2  \n",
      "libiconv                  1.15                 h470a237_3    conda-forge\n",
      "libpng                    1.6.35               ha92aebf_2    conda-forge\n",
      "libsodium                 1.0.16               h470a237_1    conda-forge\n",
      "libssh2                   1.8.0                h5b517e9_2    conda-forge\n",
      "markupsafe                1.0              py37h470a237_1    conda-forge\n",
      "matplotlib                3.0.0            py37h45c993b_0    conda-forge\n",
      "mistune                   0.8.3                      py_0    conda-forge\n",
      "mkl                       2019.0                      118  \n",
      "mkl_fft                   1.0.6            py37hb8a8100_0  \n",
      "mkl_random                1.0.1            py37h5d10147_1  \n",
      "nbconvert                 5.3.1                      py_1    conda-forge\n",
      "nbformat                  4.4.0                      py_1    conda-forge\n",
      "ncurses                   6.1                  hfc679d8_1    conda-forge\n",
      "networkx                  2.2                        py_1    conda-forge\n",
      "notebook                  5.6.0                    py37_1    conda-forge\n",
      "numpy                     1.15.1           py37h6a91979_0  \n",
      "numpy-base                1.15.1           py37h8a80b8c_0  \n",
      "openblas                  0.2.20                        8    conda-forge\n",
      "openssl                   1.0.2p               h1de35cc_0  \n",
      "pandas                    0.23.4           py37hf8a1672_0    conda-forge\n",
      "pandoc                    2.2.2                hde52d81_1    conda-forge\n",
      "pandocfilters             1.4.2                      py_1    conda-forge\n",
      "parso                     0.3.1                      py_0    conda-forge\n",
      "perl                      5.26.2               h16c6ff1_0    conda-forge\n",
      "pexpect                   4.6.0                    py37_0    conda-forge\n",
      "pickleshare               0.7.4                    py37_0    conda-forge\n",
      "pip                       18.0                     py37_1    conda-forge\n",
      "prometheus_client         0.3.1                      py_1    conda-forge\n",
      "prompt_toolkit            1.0.15                     py_1    conda-forge\n",
      "ptyprocess                0.6.0                    py37_0    conda-forge\n",
      "pygments                  2.2.0                      py_1    conda-forge\n",
      "pygsp                     0.5.1                      py_0    conda-forge\n",
      "pyparsing                 2.2.1                      py_0    conda-forge\n",
      "pyqt                      5.6.0            py37h8210e8a_7    conda-forge\n",
      "python                    3.7.0                h4eca856_1    conda-forge\n",
      "python-dateutil           2.7.3                      py_0    conda-forge\n",
      "pytz                      2018.5                     py_0    conda-forge\n",
      "pyzmq                     17.1.2           py37hae99301_0    conda-forge\n",
      "qt                        5.6.2                hd4c90f3_9    conda-forge\n",
      "qtconsole                 4.4.1                    py37_1    conda-forge\n",
      "readline                  7.0                  haf1bffa_1    conda-forge\n",
      "scipy                     1.1.0            py37h28f7352_1  \n",
      "send2trash                1.5.0                      py_0    conda-forge\n",
      "setuptools                40.4.0                py37_1000    conda-forge\n",
      "simplegeneric             0.8.1                      py_1    conda-forge\n",
      "sip                       4.18.1           py37hfc679d8_0    conda-forge\n",
      "six                       1.11.0                   py37_1    conda-forge\n",
      "sqlite                    3.25.1               hb1c47c0_0    conda-forge\n",
      "terminado                 0.8.1                    py37_1    conda-forge\n",
      "testpath                  0.3.1                    py37_1    conda-forge\n",
      "tk                        8.6.8                ha92aebf_0    conda-forge\n",
      "tornado                   5.1              py37h470a237_1    conda-forge\n",
      "traitlets                 4.3.2                    py37_0    conda-forge\n",
      "wcwidth                   0.1.7                      py_1    conda-forge\n",
      "webencodings              0.5.1                      py_1    conda-forge\n",
      "wheel                     0.31.1                py37_1001    conda-forge\n",
      "widgetsnbextension        3.4.1                    py37_0    conda-forge\n",
      "xz                        5.2.4                h470a237_1    conda-forge\n",
      "zeromq                    4.2.5                hfc679d8_5    conda-forge\n",
      "zlib                      1.2.11               h470a237_3    conda-forge\n"
     ]
    }
   ],
   "source": [
    "!conda list -n ntds_2018"
   ]
  },
  {
   "cell_type": "code",
   "execution_count": 4,
   "metadata": {},
   "outputs": [
    {
     "name": "stdout",
     "output_type": "stream",
     "text": [
      "Solving environment: done\n",
      "\n",
      "# All requested packages already installed.\n",
      "\n"
     ]
    }
   ],
   "source": [
    "!conda install -n ntds_2018 git"
   ]
  },
  {
   "cell_type": "code",
   "execution_count": null,
   "metadata": {},
   "outputs": [],
   "source": []
  }
 ],
 "metadata": {
  "kernelspec": {
   "display_name": "Python 3",
   "language": "python",
   "name": "python3"
  },
  "language_info": {
   "codemirror_mode": {
    "name": "ipython",
    "version": 3
   },
   "file_extension": ".py",
   "mimetype": "text/x-python",
   "name": "python",
   "nbconvert_exporter": "python",
   "pygments_lexer": "ipython3",
   "version": "3.7.0"
  }
 },
 "nbformat": 4,
 "nbformat_minor": 2
}
